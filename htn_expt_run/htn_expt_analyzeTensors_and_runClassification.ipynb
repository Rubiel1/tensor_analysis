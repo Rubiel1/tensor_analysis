{
 "metadata": {
  "name": "",
  "signature": "sha256:a12c40dc73e4b8253d42d9c299f0e11700e3f554cddc0c2720d93a4cf19c022d"
 },
 "nbformat": 3,
 "nbformat_minor": 0,
 "worksheets": [
  {
   "cells": [
    {
     "cell_type": "code",
     "collapsed": false,
     "input": [],
     "language": "python",
     "metadata": {},
     "outputs": []
    }
   ],
   "metadata": {}
  }
 ]
}