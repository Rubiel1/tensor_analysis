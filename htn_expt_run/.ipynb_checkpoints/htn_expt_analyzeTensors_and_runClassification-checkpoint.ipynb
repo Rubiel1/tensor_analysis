{
 "metadata": {
  "name": "",
  "signature": "sha256:e8859073d3f78b78ac35b372540a25c8b0c66e6ecb44b0fd6456e272bb60514c"
 },
 "nbformat": 3,
 "nbformat_minor": 0,
 "worksheets": [
  {
   "cells": [
    {
     "cell_type": "code",
     "collapsed": false,
     "input": [
      "import os"
     ],
     "language": "python",
     "metadata": {},
     "outputs": [],
     "prompt_number": 1
    },
    {
     "cell_type": "code",
     "collapsed": false,
     "input": [
      "os.getcwd()"
     ],
     "language": "python",
     "metadata": {},
     "outputs": [
      {
       "metadata": {},
       "output_type": "pyout",
       "prompt_number": 2,
       "text": [
        "'/nv/pcoc1/rchen87/tensor_factorization/github_tensor/htn_expt_run'"
       ]
      }
     ],
     "prompt_number": 2
    },
    {
     "cell_type": "code",
     "collapsed": false,
     "input": [
      "import sys\n",
      "\n",
      "tensor_input = '/nv/pcoc1/rchen87/tensor_factorization/github_tensor/htn_data_tensors/htn-tensor-subsetforanalysis-20140811-{0}.dat'\n",
      "CODE_DIR = '/nv/pcoc1/rchen87/tensor_factorization/github_tensor/experiment_code/'\n",
      "marble_output_folder = '/nv/pcoc1/rchen87/tensor_factorization/github_tensor/htn_expt_run/marble_output_files/'\n",
      "save_folder = '/nv/pcoc1/rchen87/tensor_factorization/github_tensor/htn_expt_run/analyzeTensors_runClassification/'\n",
      "\n",
      "#load required modules:                                                                                                                                                                                                                                                                                           \n",
      "print \"loading required modules\"\n",
      "\n",
      "execfile( CODE_DIR + 'setup_python_env.py')\n",
      "pheWAS_xls_file = CODE_DIR + 'ICD9-2-PheWAS.xls'\n",
      "\n",
      "\n",
      "#create output folder if it does not exist                                                                                                                                                                                                                                                                        \n",
      "if not os.path.exists(save_folder):\n",
      "    os.makedirs(save_folder)\n",
      "\n",
      "############################################################################################################## \n",
      "\n",
      "#load pheWAS dictionary                                                                                                                                                                                                                                                                                           \n",
      "\n",
      "xls = pd.ExcelFile(pheWAS_xls_file)\n",
      "df_pheWAS = xls.parse(xls.sheet_names[0])\n",
      "\n",
      "d_jdrange_lookup = dict(zip(list(df_pheWAS.JD_X_RANGE), list(df_pheWAS.JD_X_NAME)))\n",
      "\n"
     ],
     "language": "python",
     "metadata": {},
     "outputs": [
      {
       "output_type": "stream",
       "stream": "stdout",
       "text": [
        "loading required modules\n"
       ]
      }
     ],
     "prompt_number": 52
    },
    {
     "cell_type": "code",
     "collapsed": false,
     "input": [
      "for thisgamma in l_gammas_used:\n",
      "    #string for saving the file based upon gamma                                                                                                                                                                                                                                                                      \n",
      "    gammaForTF_used = [0.001, thisgamma, thisgamma]\n",
      "    gamma_str = '_gamma'\n",
      "    for num in gammaForTF_used:\n",
      "        gamma_str = gamma_str + '-' + str(num)\n",
      "    gamma_str = gamma_str + '.pickle'\n",
      "    \n",
      "    #filename for this set of gammas\n",
      "    filename_tensorFactors_thisgamma = marble_output_folder + \"pheno_htn_subset_analyzed_REG\" + gamma_str\n",
      "    filename_Yinfo_thisgammae = marble_output_folder + \"Yinfo_htn_subset_analyzed\" + gamma_str\n",
      "    \n",
      "    ##read in the pickles:                                                                                                                                                                                                                                                                                            \n",
      "    matrix_pkl = open(filename_tensorFactors_thisgamma, \"rb\")\n",
      "    pheno_htn_subset_analyzed_REG_withGamma = pickle.load(matrix_pkl)\n",
      "    matrix_pkl.close()\n",
      "\n",
      "    matrix_pkl = open(filename_Yinfo_thisgammae, \"rb\")\n",
      "    Yinfo_htn_subset_analyzed_withGamma = pickle.load(matrix_pkl)\n",
      "    matrix_pkl.close()\n",
      "\n",
      "    #tensor with all phenotypes (factorization)                                                                                                                                                                                                                                                                       \n",
      "    ktensor_phenotypes = pheno_htn_subset_analyzed_REG_withGamma[0]\n",
      "\n",
      "    #sort phenotypes by lambda values:                                                                                                                                                                                                                                                                                \n",
      "    d_lambda_phenoNumber = OrderedDict(zip( list(range(ktensor_phenotypes.R)),\n",
      "                                        list(ktensor_phenotypes.lmbda)\n",
      "                                        ))\n",
      "    l_phenoNumbers_sorted_by_lambda = [tup[0] for tup in sorted(d_lambda_phenoNumber.iteritems(), key=operator.itemgetter(1))][::-1]  #get a sorted list of phenotype numbers, which are sorted by using the operator.itemgetter                                                                                      \n",
      "    \n",
      "    # loop through phenotypes and count how many diagnosis / meds there are for each phenotype\n",
      "    l_numfactors_pt = []\n",
      "    l_numfactors_jdrange = []\n",
      "    l_numfactors_med = []\n",
      "    for i in l_phenoNumbers_sorted_by_lambda:\n",
      "        this_pheno_pt_factor = ktensor_phenotypes.U[0][:,i]\n",
      "        this_pheno_jdrange_factor = ktensor_phenotypes.U[1][:,i]\n",
      "        this_pheno_med_factor = ktensor_phenotypes.U[2][:,i]\n",
      "    \n",
      "        this_pheno_pt_nnz = np.nonzero(this_pheno_pt_factor)[0]\n",
      "        this_pheno_jdrange_nnz = np.nonzero(this_pheno_jdrange_factor)[0]\n",
      "        this_pheno_med_nnz = np.nonzero(this_pheno_med_factor)[0]\n",
      "        \n",
      "        num_pt = len(this_pheno_pt_nnz)\n",
      "        num_jdrange = len(this_pheno_jdrange_nnz)\n",
      "        num_med = len(this_pheno_med_nnz)\n",
      "    \n",
      "        l_numfactors_pt.append(num_pt)\n",
      "        l_numfactors_jdrange(num_jdrange)\n",
      "        l_numfactors_med(num_med)\n",
      "    \n",
      "    d_numfactors_pt_perGamma[thisgamma] = np.mean(np.nonzero(l_numfactors_pt))\n",
      "    d_numfactors_diag_perGamma[thisgamma] = np.mean(np.nonzero(l_numfactors_jdrange))\n",
      "    d_numfactors_med_perGamma[thisgamma] = np.mean(np.nonzero(l_numfactors_med))\n",
      "    d_numPheno_nonzero_pt_perGamma[thisgamma] = len(np.nonzero(l_numfactors_pt))\n",
      "    d_numPheno_nonzero_diag_perGamma[thisgamma] = len(np.nonzero(l_numfactors_jdrange))\n",
      "    d_numPheno_nonzero_med_perGamma[thisgamma] = len(np.nonzero(l_numfactors_med))\n",
      "        \n",
      "od_numfactors_pt_perGamma = OrderedDict(sorted(d_numfactors_pt_perGamma.items()))\n",
      "od_numfactors_diag_perGamma = OrderedDict(sorted(d_numfactors_diag_perGamma.items()))\n",
      "od_numfactors_med_perGamma = OrderedDict(sorted(d_numfactors_med_perGamma.items()))\n",
      "\n"
     ],
     "language": "python",
     "metadata": {},
     "outputs": [],
     "prompt_number": 72
    },
    {
     "cell_type": "code",
     "collapsed": false,
     "input": [
      "od_numfactors_diag_perGamma"
     ],
     "language": "python",
     "metadata": {},
     "outputs": [
      {
       "metadata": {},
       "output_type": "pyout",
       "prompt_number": 74,
       "text": [
        "OrderedDict([(0.01, 24), (0.02, 22), (0.03, 0), (0.04, 14), (0.05, 0), (0.06, 9), (0.07, 0), (0.08, 8), (0.09, 6), (0.1, 0), (0.11, 0), (0.12, 0), (0.13, 0), (0.14, 0), (0.15, 0)])"
       ]
      }
     ],
     "prompt_number": 74
    },
    {
     "cell_type": "code",
     "collapsed": false,
     "input": [
      "##\n",
      "## For rest of the script, do the following:\n",
      "##    loop through all iterations where gamma was different, and grab phenotypes information from those\n",
      "##\n",
      "\n",
      "## load the tensor #######                                                                                                                                                                                                                                                                                        \n",
      "loaded_X, loaded_axisDict, loaded_classDict = tensorIO.loadSingleTensor(tensor_input)\n",
      "\n",
      "# the following are common to all ranges of gamma\n",
      "l_pts = loaded_axisDict[0].keys()\n",
      "l_jdrange = loaded_axisDict[1].keys()\n",
      "l_meds= loaded_axisDict[2].keys()\n",
      "\n",
      "# count the number of factors for both diagnoses / meds\n",
      "#   -- note: this is assuming we used same gamma for diagnoses as well as meds\n",
      "#\n",
      "l_gammas_used = [x*0.01 for x in range(1,16)]\n",
      "\n",
      "d_numfactors_pt_perGamma = dict()\n",
      "d_numfactors_diag_perGamma = dict()\n",
      "d_numfactors_med_perGamma = dict()\n",
      "\n",
      "d_numPheno_nonzero_pt_perGamma = dict()\n",
      "d_numPheno_nonzero_diag_perGamma = dict()\n",
      "d_numPheno_nonzero_med_perGamma = dict()"
     ],
     "language": "python",
     "metadata": {},
     "outputs": [],
     "prompt_number": 67
    },
    {
     "cell_type": "code",
     "collapsed": false,
     "input": [
      "x = range(10)"
     ],
     "language": "python",
     "metadata": {},
     "outputs": [],
     "prompt_number": 31
    },
    {
     "cell_type": "code",
     "collapsed": false,
     "input": [
      "y = [x^2 for x in x]"
     ],
     "language": "python",
     "metadata": {},
     "outputs": [],
     "prompt_number": 32
    },
    {
     "cell_type": "code",
     "collapsed": false,
     "input": [
      "y"
     ],
     "language": "python",
     "metadata": {},
     "outputs": [
      {
       "metadata": {},
       "output_type": "pyout",
       "prompt_number": 33,
       "text": [
        "[2, 3, 0, 1, 6, 7, 4, 5, 10, 11]"
       ]
      }
     ],
     "prompt_number": 33
    },
    {
     "cell_type": "code",
     "collapsed": false,
     "input": [
      "x"
     ],
     "language": "python",
     "metadata": {},
     "outputs": [
      {
       "metadata": {},
       "output_type": "pyout",
       "prompt_number": 34,
       "text": [
        "9"
       ]
      }
     ],
     "prompt_number": 34
    },
    {
     "cell_type": "code",
     "collapsed": false,
     "input": [
      "x = range(10)"
     ],
     "language": "python",
     "metadata": {},
     "outputs": [],
     "prompt_number": 35
    },
    {
     "cell_type": "code",
     "collapsed": false,
     "input": [
      "gg = x.copy()"
     ],
     "language": "python",
     "metadata": {},
     "outputs": [
      {
       "ename": "AttributeError",
       "evalue": "'list' object has no attribute 'copy'",
       "output_type": "pyerr",
       "traceback": [
        "\u001b[1;31m---------------------------------------------------------------------------\u001b[0m\n\u001b[1;31mAttributeError\u001b[0m                            Traceback (most recent call last)",
        "\u001b[1;32m<ipython-input-36-502c5c91fde9>\u001b[0m in \u001b[0;36m<module>\u001b[1;34m()\u001b[0m\n\u001b[1;32m----> 1\u001b[1;33m \u001b[0mgg\u001b[0m \u001b[1;33m=\u001b[0m \u001b[0mx\u001b[0m\u001b[1;33m.\u001b[0m\u001b[0mcopy\u001b[0m\u001b[1;33m(\u001b[0m\u001b[1;33m)\u001b[0m\u001b[1;33m\u001b[0m\u001b[0m\n\u001b[0m",
        "\u001b[1;31mAttributeError\u001b[0m: 'list' object has no attribute 'copy'"
       ]
      }
     ],
     "prompt_number": 36
    },
    {
     "cell_type": "code",
     "collapsed": false,
     "input": [
      "gg = x.copy"
     ],
     "language": "python",
     "metadata": {},
     "outputs": [
      {
       "ename": "AttributeError",
       "evalue": "'list' object has no attribute 'copy'",
       "output_type": "pyerr",
       "traceback": [
        "\u001b[1;31m---------------------------------------------------------------------------\u001b[0m\n\u001b[1;31mAttributeError\u001b[0m                            Traceback (most recent call last)",
        "\u001b[1;32m<ipython-input-37-c18c7285de67>\u001b[0m in \u001b[0;36m<module>\u001b[1;34m()\u001b[0m\n\u001b[1;32m----> 1\u001b[1;33m \u001b[0mgg\u001b[0m \u001b[1;33m=\u001b[0m \u001b[0mx\u001b[0m\u001b[1;33m.\u001b[0m\u001b[0mcopy\u001b[0m\u001b[1;33m\u001b[0m\u001b[0m\n\u001b[0m",
        "\u001b[1;31mAttributeError\u001b[0m: 'list' object has no attribute 'copy'"
       ]
      }
     ],
     "prompt_number": 37
    },
    {
     "cell_type": "code",
     "collapsed": false,
     "input": [
      "gg = x"
     ],
     "language": "python",
     "metadata": {},
     "outputs": [],
     "prompt_number": 38
    },
    {
     "cell_type": "code",
     "collapsed": false,
     "input": [
      "gg"
     ],
     "language": "python",
     "metadata": {},
     "outputs": [
      {
       "metadata": {},
       "output_type": "pyout",
       "prompt_number": 39,
       "text": [
        "[0, 1, 2, 3, 4, 5, 6, 7, 8, 9]"
       ]
      }
     ],
     "prompt_number": 39
    },
    {
     "cell_type": "code",
     "collapsed": false,
     "input": [
      "x"
     ],
     "language": "python",
     "metadata": {},
     "outputs": [
      {
       "metadata": {},
       "output_type": "pyout",
       "prompt_number": 40,
       "text": [
        "[0, 1, 2, 3, 4, 5, 6, 7, 8, 9]"
       ]
      }
     ],
     "prompt_number": 40
    },
    {
     "cell_type": "code",
     "collapsed": false,
     "input": [
      "y = [x^2 for x in gg]"
     ],
     "language": "python",
     "metadata": {},
     "outputs": [],
     "prompt_number": 41
    },
    {
     "cell_type": "code",
     "collapsed": false,
     "input": [
      "x"
     ],
     "language": "python",
     "metadata": {},
     "outputs": [
      {
       "metadata": {},
       "output_type": "pyout",
       "prompt_number": 42,
       "text": [
        "9"
       ]
      }
     ],
     "prompt_number": 42
    },
    {
     "cell_type": "code",
     "collapsed": false,
     "input": [
      "y"
     ],
     "language": "python",
     "metadata": {},
     "outputs": [
      {
       "metadata": {},
       "output_type": "pyout",
       "prompt_number": 43,
       "text": [
        "[2, 3, 0, 1, 6, 7, 4, 5, 10, 11]"
       ]
      }
     ],
     "prompt_number": 43
    },
    {
     "cell_type": "code",
     "collapsed": false,
     "input": [
      "gg"
     ],
     "language": "python",
     "metadata": {},
     "outputs": [
      {
       "metadata": {},
       "output_type": "pyout",
       "prompt_number": 44,
       "text": [
        "[0, 1, 2, 3, 4, 5, 6, 7, 8, 9]"
       ]
      }
     ],
     "prompt_number": 44
    },
    {
     "cell_type": "code",
     "collapsed": false,
     "input": [
      "len(y)\n",
      "len(gg)"
     ],
     "language": "python",
     "metadata": {},
     "outputs": [
      {
       "metadata": {},
       "output_type": "pyout",
       "prompt_number": 45,
       "text": [
        "10"
       ]
      }
     ],
     "prompt_number": 45
    },
    {
     "cell_type": "code",
     "collapsed": false,
     "input": [
      "plt.plot(gg, y, x)"
     ],
     "language": "python",
     "metadata": {},
     "outputs": [
      {
       "metadata": {},
       "output_type": "pyout",
       "prompt_number": 54,
       "text": [
        "[<matplotlib.lines.Line2D at 0x7fffc422b8d0>]"
       ]
      }
     ],
     "prompt_number": 54
    },
    {
     "cell_type": "code",
     "collapsed": false,
     "input": [
      "plt.show()"
     ],
     "language": "python",
     "metadata": {},
     "outputs": [],
     "prompt_number": 47
    },
    {
     "cell_type": "code",
     "collapsed": false,
     "input": [
      "os.getcwd()"
     ],
     "language": "python",
     "metadata": {},
     "outputs": [
      {
       "metadata": {},
       "output_type": "pyout",
       "prompt_number": 48,
       "text": [
        "'/nv/pcoc1/rchen87/tensor_factorization/github_tensor/htn_expt_run'"
       ]
      }
     ],
     "prompt_number": 48
    },
    {
     "cell_type": "code",
     "collapsed": false,
     "input": [
      "plt.savefig(str(save_folder + \"sample_plot.png\"))"
     ],
     "language": "python",
     "metadata": {},
     "outputs": [],
     "prompt_number": 55
    },
    {
     "cell_type": "code",
     "collapsed": false,
     "input": [
      "fdsafds"
     ],
     "language": "python",
     "metadata": {},
     "outputs": [
      {
       "metadata": {},
       "output_type": "pyout",
       "prompt_number": 51,
       "text": [
        "'/nv/pcoc1/rchen87/tensor_factorization/github_tensor/htn_expt_run/analyzeTensors_runClassificationsample_plot.png'"
       ]
      }
     ],
     "prompt_number": 51
    },
    {
     "cell_type": "code",
     "collapsed": false,
     "input": [
      "ktensor_phenotypes.R"
     ],
     "language": "python",
     "metadata": {},
     "outputs": [
      {
       "metadata": {},
       "output_type": "pyout",
       "prompt_number": 62,
       "text": [
        "50"
       ]
      }
     ],
     "prompt_number": 62
    },
    {
     "cell_type": "code",
     "collapsed": false,
     "input": [
      "fig = plt.figure(1)\n",
      "fig.set_size_inches(8,8)\n",
      "plt.plot(od_numfactors_pt_perGamma.keys(), od_numfactors_pt_perGamma.values() , 'b')\n",
      "plt.xlabel('gamma value')\n",
      "plt.ylabel('Count')\n",
      "plt.title('Patient factor')\n",
      "fig.savefig(save_folder + 'htn_marble_ptMode_gamma_factorElementCount.png')\n",
      "plt.close()\n",
      "\n",
      "fig = plt.figure(2)\n",
      "fig.set_size_inches(8,8)\n",
      "plt.plot(od_numfactors_diag_perGamma.keys(), od_numfactors_diag_perGamma.values() , 'b')\n",
      "plt.xlabel('gamma value')\n",
      "plt.ylabel('Count')\n",
      "plt.title('Diagnosis factor')\n",
      "fig.savefig(save_folder + 'htn_marble_diagMode_gamma_factorElementCount.png')\n",
      "plt.close()\n",
      "\n",
      "fig = plt.figure(3)\n",
      "fig.set_size_inches(8,8)\n",
      "plt.plot(od_numfactors_med_perGamma.keys(), od_numfactors_med_perGamma.values() , 'b')\n",
      "plt.xlabel('gamma value')\n",
      "plt.ylabel('Count')\n",
      "plt.title('Medication factor')\n",
      "fig.savefig(save_folder + 'htn_marble_medMode_gamma_factorElementCount.png')\n",
      "plt.close()\n"
     ],
     "language": "python",
     "metadata": {},
     "outputs": [],
     "prompt_number": 71
    },
    {
     "cell_type": "code",
     "collapsed": false,
     "input": [],
     "language": "python",
     "metadata": {},
     "outputs": []
    }
   ],
   "metadata": {}
  }
 ]
}