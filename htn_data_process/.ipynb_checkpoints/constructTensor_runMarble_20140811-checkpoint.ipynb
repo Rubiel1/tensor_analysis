{
 "metadata": {
  "name": "",
  "signature": "sha256:dc47f3fee9ae06dc0f63db26f9e3b6082b7945eabe85943e86c3e44e45ffcc2b"
 },
 "nbformat": 3,
 "nbformat_minor": 0,
 "worksheets": [
  {
   "cells": [
    {
     "cell_type": "code",
     "collapsed": false,
     "input": [
      "print \"testing -- after setup ipython notebook\""
     ],
     "language": "python",
     "metadata": {},
     "outputs": [
      {
       "output_type": "stream",
       "stream": "stdout",
       "text": [
        "testing -- after setup ipython notebook\n"
       ]
      }
     ],
     "prompt_number": 1
    },
    {
     "cell_type": "code",
     "collapsed": false,
     "input": [],
     "language": "python",
     "metadata": {},
     "outputs": []
    }
   ],
   "metadata": {}
  }
 ]
}