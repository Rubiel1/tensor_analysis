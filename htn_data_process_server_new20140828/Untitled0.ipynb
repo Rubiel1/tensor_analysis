{
 "metadata": {
  "name": "",
  "signature": "sha256:c434beafb65494a101464d0f3fb874976513954219a22e6d72a22da9851dfa42"
 },
 "nbformat": 3,
 "nbformat_minor": 0,
 "worksheets": [
  {
   "cells": [
    {
     "cell_type": "code",
     "collapsed": false,
     "input": [
      "import os\n",
      "import sys"
     ],
     "language": "python",
     "metadata": {},
     "outputs": [],
     "prompt_number": 1
    },
    {
     "cell_type": "code",
     "collapsed": false,
     "input": [
      "sys.path"
     ],
     "language": "python",
     "metadata": {},
     "outputs": [
      {
       "metadata": {},
       "output_type": "pyout",
       "prompt_number": 2,
       "text": [
        "['',\n",
        " '/usr/local/packages/python/2.7.7/gcc-4.4.5/lib/python2.7/site-packages/setuptools-3.5.1-py2.7.egg',\n",
        " '/usr/local/packages/python/2.7.7/gcc-4.4.5/lib/python2.7/site-packages/python_hostlist-1.14-py2.7.egg',\n",
        " '/usr/local/packages/python/2.7.7/gcc-4.4.5/lib/python2.7/site-packages/paramiko-1.12.4-py2.7.egg',\n",
        " '/usr/local/packages/python/2.7.7/gcc-4.4.5/lib/python2.7/site-packages/ecdsa-0.11-py2.7.egg',\n",
        " '/usr/local/packages/python/2.7.7/gcc-4.4.5/lib/python2.7/site-packages/pycrypto-2.6.1-py2.7-linux-x86_64.egg',\n",
        " '/usr/local/packages/python/2.7.7/gcc-4.4.5/lib/python2.7/site-packages/lockfile-0.9.1-py2.7.egg',\n",
        " '/usr/local/packages/python/2.7.7/gcc-4.4.5/lib/python2.7/site-packages/blessings-1.5.1-py2.7.egg',\n",
        " '/usr/local/packages/python/2.7.7/gcc-4.4.5/lib/python2.7/site-packages/pyinotify-0.9.4-py2.7.egg',\n",
        " '/usr/local/packages/python/2.7.7/gcc-4.4.5/lib/python2.7/site-packages/suds-0.4-py2.7.egg',\n",
        " '/usr/local/packages/python/2.7.7/gcc-4.4.5/lib/python2.7/site-packages/pypng-0.0.17-py2.7.egg',\n",
        " '/usr/local/packages/python/2.7.7/gcc-4.4.5/lib/python2.7/site-packages/h5py-2.3.0-py2.7-linux-x86_64.egg',\n",
        " '/usr/local/packages/python/2.7.7/gcc-4.4.5/lib/python2.7/site-packages/pexpect-3.2-py2.7.egg',\n",
        " '/usr/local/packages/python/2.7.7/gcc-4.4.5/lib/python2.7/site-packages/Pillow-2.4.0-py2.7-linux-x86_64.egg',\n",
        " '/usr/local/packages/python/2.7.7/gcc-4.4.5/lib/python2.7/site-packages/xlwt-0.7.5-py2.7.egg',\n",
        " '/usr/local/packages/python/2.7.7/gcc-4.4.5/lib/python2.7/site-packages/cx_Oracle-5.1.3-py2.7-linux-x86_64.egg',\n",
        " '/usr/local/packages/python/2.7.7/gcc-4.4.5/lib/python2.7/site-packages/MySQL_python-1.2.5-py2.7-linux-x86_64.egg',\n",
        " '/usr/local/packages/python/2.7.7/gcc-4.4.5/lib/python2.7/site-packages/netCDF4-1.1.0-py2.7-linux-x86_64.egg',\n",
        " '/usr/local/packages/python/2.7.7/gcc-4.4.5/lib/python2.7/site-packages/PyCifRW-3.5-py2.7-linux-x86_64.egg',\n",
        " '/usr/local/packages/python/2.7.7/gcc-4.4.5/lib/python2.7/site-packages/pyhull-1.4.3-py2.7-linux-x86_64.egg',\n",
        " '/usr/local/packages/python/2.7.7/gcc-4.4.5/lib/python2.7/site-packages/PyVirtualDisplay-0.1.5-py2.7.egg',\n",
        " '/usr/local/packages/python/2.7.7/gcc-4.4.5/lib/python2.7/site-packages/Polygon2-2.0.6-py2.7-linux-x86_64.egg',\n",
        " '/usr/local/packages/python/2.7.7/gcc-4.4.5/lib/python2.7/site-packages/fonttools-2.4-py2.7-linux-x86_64.egg',\n",
        " '/usr/local/packages/python/2.7.7/gcc-4.4.5/lib/python2.7/site-packages/wget-2.0-py2.7.egg',\n",
        " '/usr/local/packages/python/2.7.7/gcc-4.4.5/lib/python2.7/site-packages/BeautifulSoup-3.2.1-py2.7.egg',\n",
        " '/usr/local/packages/python/2.7.7/gcc-4.4.5/lib/python2.7/site-packages/PyYAML-3.11-py2.7-linux-x86_64.egg',\n",
        " '/usr/local/packages/python/2.7.7/gcc-4.4.5/lib/python2.7/site-packages/twython-3.1.2-py2.7.egg',\n",
        " '/usr/local/packages/python/2.7.7/gcc-4.4.5/lib/python2.7/site-packages/oauthlib-0.6.1-py2.7.egg',\n",
        " '/usr/local/packages/python/2.7.7/gcc-4.4.5/lib/python2.7/site-packages/pytz-2014.4-py2.7.egg',\n",
        " '/usr/local/packages/python/2.7.7/gcc-4.4.5/lib/python2.7/site-packages/IPy-0.81-py2.7.egg',\n",
        " '/usr/local/packages/python/2.7.7/gcc-4.4.5/lib/python2.7/site-packages/pybtex-0.17-py2.7.egg',\n",
        " '/usr/local/packages/python/2.7.7/gcc-4.4.5/lib/python2.7/site-packages/pymongo-2.7.1-py2.7-linux-x86_64.egg',\n",
        " '/usr/local/packages/python/2.7.7/gcc-4.4.5/lib/python2.7/site-packages/xmltodict-0.9.0-py2.7.egg',\n",
        " '/usr/local/packages/python/2.7.7/gcc-4.4.5/lib/python2.7/site-packages/humanfriendly-1.9.4-py2.7.egg',\n",
        " '/usr/local/packages/python/2.7.7/gcc-4.4.5/lib/python2.7/site-packages/GridDataFormats-0.2.4-py2.7.egg',\n",
        " '/usr/local/packages/python/2.7.7/gcc-4.4.5/lib/python2.7/site-packages/cutadapt-1.4.2-py2.7-linux-x86_64.egg',\n",
        " '/usr/local/packages/python/2.7.7/gcc-4.4.5/lib/python2.7/site-packages/Fabric-1.8.3-py2.7.egg',\n",
        " '/usr/local/packages/python/2.7.7/gcc-4.4.5/lib/python2.7/site-packages/python_daemon-1.6-py2.7.egg',\n",
        " '/usr/local/packages/python/2.7.7/gcc-4.4.5/lib/python2.7/site-packages/python_ldap-2.4.15-py2.7-linux-x86_64.egg',\n",
        " '/usr/local/packages/python/2.7.7/gcc-4.4.5/lib/python2.7/site-packages/nose-1.3.3-py2.7.egg',\n",
        " '/usr/local/packages/python/2.7.7/gcc-4.4.5/lib/python2.7/site-packages/sh-1.09-py2.7.egg',\n",
        " '/usr/local/packages/python/2.7.7/gcc-4.4.5/lib/python2.7/site-packages/biom_format-1.3.1-py2.7.egg',\n",
        " '/usr/local/packages/python/2.7.7/gcc-4.4.5/lib/python2.7/site-packages/pyqi-0.3.1-py2.7.egg',\n",
        " '/usr/local/packages/python/2.7.7/gcc-4.4.5/lib/python2.7/site-packages/numexpr-2.4-py2.7-linux-x86_64.egg',\n",
        " '/usr/local/packages/python/2.7.7/gcc-4.4.5/lib/python2.7/site-packages/Cython-0.20.1-py2.7-linux-x86_64.egg',\n",
        " '/usr/local/packages/python/2.7.7/gcc-4.4.5/lib/python2.7/site-packages/ipython-2.1.0-py2.7.egg',\n",
        " '/usr/local/packages/python/2.7.7/gcc-4.4.5/lib/python2.7/site-packages/matplotlib-1.3.1-py2.7-linux-x86_64.egg',\n",
        " '/usr/local/packages/python/2.7.7/gcc-4.4.5/lib/python2.7/site-packages/pyparsing-2.0.2-py2.7.egg',\n",
        " '/usr/local/packages/python/2.7.7/gcc-4.4.5/lib/python2.7/site-packages/Sphinx-1.2.2-py2.7.egg',\n",
        " '/usr/local/packages/python/2.7.7/gcc-4.4.5/lib/python2.7/site-packages/Jinja2-2.7.2-py2.7.egg',\n",
        " '/usr/local/packages/python/2.7.7/gcc-4.4.5/lib/python2.7/site-packages/docutils-0.11-py2.7.egg',\n",
        " '/usr/local/packages/python/2.7.7/gcc-4.4.5/lib/python2.7/site-packages/Pygments-1.6-py2.7.egg',\n",
        " '/usr/local/packages/python/2.7.7/gcc-4.4.5/lib/python2.7/site-packages/MarkupSafe-0.23-py2.7-linux-x86_64.egg',\n",
        " '/usr/local/packages/python/2.7.7/gcc-4.4.5/lib/python2.7/site-packages/snappy-2.1.2-py2.7-linux-x86_64.egg',\n",
        " '/usr/local/packages/python/2.7.7/gcc-4.4.5/lib/python2.7/site-packages/cypari-1.1-py2.7-linux-x86_64.egg',\n",
        " '/usr/local/packages/python/2.7.7/gcc-4.4.5/lib/python2.7/site-packages/spherogram-1.3-py2.7-linux-x86_64.egg',\n",
        " '/usr/local/packages/python/2.7.7/gcc-4.4.5/lib/python2.7/site-packages/plink-1.6-py2.7.egg',\n",
        " '/usr/local/packages/python/2.7.7/gcc-4.4.5/lib/python2.7/site-packages/networkx-1.8.1-py2.7.egg',\n",
        " '/usr/local/packages/python/2.7.7/gcc-4.4.5/lib/python2.7/site-packages/tornado-3.2.1-py2.7-linux-x86_64.egg',\n",
        " '/usr/local/packages/python/2.7.7/gcc-4.4.5/lib/python2.7/site-packages/python_dateutil-2.2-py2.7.egg',\n",
        " '/usr/local/packages/python/2.7.7/gcc-4.4.5/lib/python2.7/site-packages/backports.ssl_match_hostname-3.4.0.2-py2.7.egg',\n",
        " '/usr/local/packages/python/2.7.7/gcc-4.4.5/lib/python2.7/site-packages/six-1.6.1-py2.7.egg',\n",
        " '/usr/local/packages/python/2.7.7/gcc-4.4.5/lib/python2.7/site-packages/mpi4py-1.3.1-py2.7-linux-x86_64.egg',\n",
        " '/usr/local/packages/python/2.7.7/gcc-4.4.5/lib/python2.7/site-packages/Pyrex-0.9.9-py2.7.egg',\n",
        " '/usr/local/packages/python/2.7.7/gcc-4.4.5/lib/python2.7/site-packages/biopython-1.64-py2.7-linux-x86_64.egg',\n",
        " '/usr/local/packages/python/2.7.7/gcc-4.4.5/lib/python2.7/site-packages/pyfits-3.2.4-py2.7-linux-x86_64.egg',\n",
        " '/usr/local/packages/python/2.7.7/gcc-4.4.5/lib/python2.7/site-packages/tables-3.1.1-py2.7-linux-x86_64.egg',\n",
        " '/usr/local/packages/python/2.7.7/gcc-4.4.5/lib/python2.7/site-packages/PyOpenGL-3.1.0b3-py2.7.egg',\n",
        " '/usr/local/packages/python/2.7.7/gcc-4.4.5/lib/python2.7/site-packages/xlrd-0.9.3-py2.7.egg',\n",
        " '/usr/local/packages/python/2.7.7/gcc-4.4.5/lib/python2.7/site-packages/xlutils-1.7.1-py2.7.egg',\n",
        " '/usr/local/packages/python/2.7.7/gcc-4.4.5/lib/python2.7/site-packages/virtualenv-1.11.6-py2.7.egg',\n",
        " '/usr/local/packages/python/2.7.7/gcc-4.4.5/lib/python2.7/site-packages/psycopg2-2.5.3-py2.7-linux-x86_64.egg',\n",
        " '/usr/local/packages/python/2.7.7/gcc-4.4.5/lib/python2.7/site-packages/pysam-0.7.8-py2.7-linux-x86_64.egg',\n",
        " '/usr/local/packages/python/2.7.7/gcc-4.4.5/lib/python2.7/site-packages/simplejson-3.5.2-py2.7-linux-x86_64.egg',\n",
        " '/usr/local/packages/python/2.7.7/gcc-4.4.5/lib/python2.7/site-packages/selenium-2.42.1-py2.7.egg',\n",
        " '/usr/local/packages/python/2.7.7/gcc-4.4.5/lib/python2.7/site-packages/EasyProcess-0.1.6-py2.7.egg',\n",
        " '/usr/local/packages/python/2.7.7/gcc-4.4.5/lib/python2.7/site-packages/Theano-0.6.0-py2.7.egg',\n",
        " '/usr/local/packages/python/2.7.7/gcc-4.4.5/lib/python2.7/site-packages/nltk-2.0.4-py2.7.egg',\n",
        " '/usr/local/packages/python/2.7.7/gcc-4.4.5/lib/python2.7/site-packages/scikit_learn-0.14.1-py2.7-linux-x86_64.egg',\n",
        " '/usr/local/packages/python/2.7.7/gcc-4.4.5/lib/python2.7/site-packages/requests_oauthlib-0.4.0-py2.7.egg',\n",
        " '/usr/local/packages/python/2.7.7/gcc-4.4.5/lib/python2.7/site-packages/requests-2.1.0-py2.7.egg',\n",
        " '/usr/local/packages/python/2.7.7/gcc-4.4.5/lib/python2.7/site-packages/pandas-0.13.1-py2.7-linux-x86_64.egg',\n",
        " '/usr/local/packages/python/2.7.7/gcc-4.4.5/lib/python2.7/site-packages/rpy2-2.3.9-py2.7-linux-x86_64.egg',\n",
        " '/usr/local/packages/python/2.7.7/gcc-4.4.5/lib/python2.7/site-packages/scikit_image-0.10.0-py2.7-linux-x86_64.egg',\n",
        " '/usr/local/packages/python/2.7.7/gcc-4.4.5/lib/python2.7/site-packages/pyshp-1.2.1-py2.7.egg',\n",
        " '/usr/local/packages/python/2.7.7/gcc-4.4.5/lib/python2.7/site-packages/pymatgen-2.9.5-py2.7-linux-x86_64.egg',\n",
        " '/usr/local/packages/python/2.7.7/gcc-4.4.5/lib/python2.7/site-packages/monty-0.2.2-py2.7.egg',\n",
        " '/usr/local/packages/python/2.7.7/gcc-4.4.5/lib/python2.7/site-packages/custodian-0.7.2-py2.7.egg',\n",
        " '/usr/local/packages/python/2.7.7/gcc-4.4.5/lib/python2.7/site-packages/SQLAlchemy-0.9.4-py2.7-linux-x86_64.egg',\n",
        " '/usr/local/packages/python/2.7.7/gcc-4.4.5/lib/python2.7/site-packages/reportlab-3.1.8-py2.7-linux-x86_64.egg',\n",
        " '/usr/local/packages/python/2.7.7/gcc-4.4.5/lib/python2.7/site-packages/pip-1.5.6-py2.7.egg',\n",
        " '/usr/local/packages/python/2.7.7/gcc-4.4.5/lib/python2.7/site-packages/pyzmq-14.3.1-py2.7-linux-x86_64.egg',\n",
        " '/usr/local/packages/python/2.7.7/gcc-4.4.5/lib/python2.7/site-packages/HTSeq-0.6.1-py2.7-linux-x86_64.egg',\n",
        " '/usr/local/packages/python/2.7.7/gcc-4.4.5/lib/python2.7/site-packages/MDAnalysis-0.8.1-py2.7-linux-x86_64.egg',\n",
        " '/usr/local/packages/python/2.7.7/gcc-4.4.5/lib/python2.7/site-packages/taxtastic-0.5.3-py2.7.egg',\n",
        " '/usr/local/packages/python/2.7.7/gcc-4.4.5/lib/python2.7/site-packages/decorator-3.4.0-py2.7.egg',\n",
        " '/usr/local/packages/python/2.7.7/gcc-4.4.5/lib/python2.7/site-packages',\n",
        " '/usr/local/packages/python/2.7.7/gcc-4.4.5/lib/python27.zip',\n",
        " '/usr/local/packages/python/2.7.7/gcc-4.4.5/lib/python2.7',\n",
        " '/usr/local/packages/python/2.7.7/gcc-4.4.5/lib/python2.7/plat-linux2',\n",
        " '/usr/local/packages/python/2.7.7/gcc-4.4.5/lib/python2.7/lib-tk',\n",
        " '/usr/local/packages/python/2.7.7/gcc-4.4.5/lib/python2.7/lib-old',\n",
        " '/usr/local/packages/python/2.7.7/gcc-4.4.5/lib/python2.7/lib-dynload',\n",
        " '/nv/hcoc1/rchen87/.local/lib/python2.7/site-packages',\n",
        " '/usr/local/packages/python/2.7.7/gcc-4.4.5/lib/python2.7/site-packages/gtk-2.0',\n",
        " '/usr/local/packages/python/2.7.7/gcc-4.4.5/lib/python2.7/site-packages/ipython-2.1.0-py2.7.egg/IPython/extensions',\n",
        " '/nv/hcoc1/rchen87/.ipython',\n",
        " '/nv/hcoc1/rchen87/pythonmodules']"
       ]
      }
     ],
     "prompt_number": 2
    },
    {
     "cell_type": "code",
     "collapsed": false,
     "input": [
      "os.getcwd()"
     ],
     "language": "python",
     "metadata": {},
     "outputs": [
      {
       "metadata": {},
       "output_type": "pyout",
       "prompt_number": 3,
       "text": [
        "'/nv/pcoc1/rchen87/tensor_factorization/github_tensor/htn_data_process_server'"
       ]
      }
     ],
     "prompt_number": 3
    },
    {
     "cell_type": "code",
     "collapsed": false,
     "input": [
      "os.listdir('./')"
     ],
     "language": "python",
     "metadata": {},
     "outputs": [
      {
       "metadata": {},
       "output_type": "pyout",
       "prompt_number": 6,
       "text": [
        "['create_drug_dict.py~',\n",
        " 'Untitled0.ipynb',\n",
        " 'wrapper_marble_localadmin.py~',\n",
        " 'scrape_drugs_joyce',\n",
        " 'parse_MEDS_MHT_subset.py',\n",
        " 'sh_wrapper_tensor_experiemnts_marble.sh~',\n",
        " 'read_pheWAS_dictionary_xls.py',\n",
        " '#fdsafdas.txt#',\n",
        " 'lookupDrug_modRC.py',\n",
        " 'create_drug_dict_RxNorm.py',\n",
        " 'wrapper_marble_localadmin.py',\n",
        " 'build_sparse_tensor_from_mht_data.py',\n",
        " 'setup_python_env.py',\n",
        " 'create_subset_of_allfinite_tensor_forAnalysis.py~',\n",
        " '#fdsafdsaf.py#',\n",
        " 'resume_reloadTensors_localadmin.py',\n",
        " 'sh_wrapper_tensor_experiemnts_marble.sh',\n",
        " '.ipynb_checkpoints',\n",
        " 'create_subset_of_allfinite_tensor_forAnalysis.py',\n",
        " 'ICD9-2-PheWAS.xls',\n",
        " 'create_drug_dict_RxNorm.py~',\n",
        " 'parse_MEDS_MHT_subset_localadmin.py',\n",
        " 'read_pheWAS_dictionary_xls.py~',\n",
        " 'run_factorization_localadmin.py',\n",
        " 'create_drug_dict.py']"
       ]
      }
     ],
     "prompt_number": 6
    },
    {
     "cell_type": "code",
     "collapsed": false,
     "input": [
      "os.getcwd()"
     ],
     "language": "python",
     "metadata": {},
     "outputs": [
      {
       "metadata": {},
       "output_type": "pyout",
       "prompt_number": 8,
       "text": [
        "'/nv/pcoc1/rchen87/tensor_factorization/github_tensor/htn_data_process_server'"
       ]
      }
     ],
     "prompt_number": 8
    },
    {
     "cell_type": "code",
     "collapsed": false,
     "input": [
      "os.listdir('./..')"
     ],
     "language": "python",
     "metadata": {},
     "outputs": [
      {
       "metadata": {},
       "output_type": "pyout",
       "prompt_number": 12,
       "text": [
        "['README.md',\n",
        " '.gitignore',\n",
        " 'data_dir',\n",
        " 'l_pts_used_MHT_outcome_analysis.txt',\n",
        " 'htn_data_process_server',\n",
        " 'wrapper_marble_localadmin.py~',\n",
        " 'joyce_code_mod',\n",
        " 'wrapper_marble_localadmin.py',\n",
        " 'test_joyce_code',\n",
        " 'data_curated_dir',\n",
        " 'htn_data_process',\n",
        " '.git',\n",
        " '.gitignore~',\n",
        " 'htn_data_process_backup_server_copy',\n",
        " 'data_curated_may2014_dir',\n",
        " 'README.md~']"
       ]
      }
     ],
     "prompt_number": 12
    },
    {
     "cell_type": "code",
     "collapsed": false,
     "input": [],
     "language": "python",
     "metadata": {},
     "outputs": []
    }
   ],
   "metadata": {}
  }
 ]
}